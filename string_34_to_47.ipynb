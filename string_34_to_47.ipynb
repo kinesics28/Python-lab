{
 "cells": [
  {
   "cell_type": "markdown",
   "id": "5d1b4977",
   "metadata": {},
   "source": [
    "# 34. Write a Python program to calculate the length of a given string."
   ]
  },
  {
   "cell_type": "code",
   "execution_count": 1,
   "id": "7b8c1111",
   "metadata": {},
   "outputs": [
    {
     "name": "stdout",
     "output_type": "stream",
     "text": [
      "SANCHIT\n",
      "7\n"
     ]
    }
   ],
   "source": [
    "x= input()\n",
    "print(len(x))"
   ]
  },
  {
   "cell_type": "markdown",
   "id": "fee56f2c",
   "metadata": {},
   "source": [
    "# 35. Write a Python program to get a single string from two given strings, separated by a space and swap the first characters of each string.\n",
    " Sample String : 'abc', 'xyz' \n",
    " Expected Result : 'xbc ayz'"
   ]
  },
  {
   "cell_type": "code",
   "execution_count": 9,
   "id": "97b566fe",
   "metadata": {},
   "outputs": [
    {
     "name": "stdout",
     "output_type": "stream",
     "text": [
      "abc xyz\n",
      "abc xyz\n",
      "xbc ayz\n"
     ]
    }
   ],
   "source": [
    "x=input()\n",
    "x=x.split(\" \")\n",
    "\n",
    "a=x[0]\n",
    "b=x[1]\n",
    "\n",
    "d=a[0:1]+b[1:]\n",
    "c=b[0:1]+a[1:]\n",
    "print(a,b)\n",
    "print(c,d)"
   ]
  },
  {
   "cell_type": "markdown",
   "id": "7e737e57",
   "metadata": {},
   "source": [
    "# 36. Write a Python program to add 'polis' at the end of a given string (length should be at least 3)."
   ]
  },
  {
   "cell_type": "raw",
   "id": "aff7b433",
   "metadata": {},
   "source": [
    "If the given string already ends with 'polis' then add 'polisCS' instead.\n",
    "If the string length of the given string is less than 3, leave it unchanged. \n",
    "Sample String : 'abc'\n",
    "Expected Result : 'abcpolisCS' \n",
    "Sample String : 'Acropolis'\n",
    "Expected Result : 'AcropolisCS'"
   ]
  },
  {
   "cell_type": "code",
   "execution_count": 19,
   "id": "cac74d71",
   "metadata": {},
   "outputs": [
    {
     "name": "stdout",
     "output_type": "stream",
     "text": [
      "abc\n",
      "abcpolisCS\n"
     ]
    }
   ],
   "source": [
    "x= input()\n",
    "\n",
    "if len(x)<3:\n",
    "    pass\n",
    "elif x[-5:]=='polis':\n",
    "    x+='CS'\n",
    "else:\n",
    "    x+=\"polisCS\"\n",
    "\n",
    "print(x)"
   ]
  },
  {
   "cell_type": "markdown",
   "id": "41e3dfa7",
   "metadata": {},
   "source": [
    "# 37. Write a Python program to count the number of characters (character frequency) in a string. \n",
    " Sample String : google.com'\n",
    " Expected Result : {'o': 3, 'g': 2, '.': 1, 'e': 1, 'l': 1, 'm': 1, 'c': 1}"
   ]
  },
  {
   "cell_type": "code",
   "execution_count": 25,
   "id": "1f04bb4e",
   "metadata": {},
   "outputs": [
    {
     "name": "stdout",
     "output_type": "stream",
     "text": [
      "google.com\n",
      "{'g': 2, 'o': 3, 'l': 1, 'e': 1, '.': 1, 'c': 1, 'm': 1}\n"
     ]
    }
   ],
   "source": [
    "x=input()\n",
    "\n",
    "d=dict()\n",
    "for i in range(len(x)):\n",
    "    z=x[i:i+1]\n",
    "    if z in d.keys():\n",
    "        d[z]+=1\n",
    "    else:\n",
    "        d[z]=1\n",
    "print (d)"
   ]
  },
  {
   "cell_type": "markdown",
   "id": "63357584",
   "metadata": {},
   "source": [
    "# 38. Write a Python program to change a given string to a new string where the second and last chars have been exchanged."
   ]
  },
  {
   "cell_type": "code",
   "execution_count": 27,
   "id": "cab3ccbc",
   "metadata": {},
   "outputs": [
    {
     "name": "stdout",
     "output_type": "stream",
     "text": [
      "sanchit\n",
      "stnchia\n"
     ]
    }
   ],
   "source": [
    "x=input()\n",
    "\n",
    "print(x[0:1]+x[-1:]+x[2:-1]+x[1:2])"
   ]
  },
  {
   "cell_type": "markdown",
   "id": "a324a0ea",
   "metadata": {},
   "source": [
    "# 39. Write a Python program to remove the characters which have even index values of a given string."
   ]
  },
  {
   "cell_type": "code",
   "execution_count": 29,
   "id": "7a009faf",
   "metadata": {},
   "outputs": [
    {
     "name": "stdout",
     "output_type": "stream",
     "text": [
      "sanchit\n",
      "snht\n"
     ]
    }
   ],
   "source": [
    "x=input()\n",
    "s=\"\"\n",
    "for i in range(0,len(x),2):\n",
    "    s+=x[i]\n",
    "print(s)\n",
    "    \n",
    "    "
   ]
  },
  {
   "cell_type": "markdown",
   "id": "f1ca22f4",
   "metadata": {},
   "source": [
    "# 40. Write a Python program that takes input from the user and displays that input back in upper and lower cases."
   ]
  },
  {
   "cell_type": "code",
   "execution_count": 30,
   "id": "72e46a61",
   "metadata": {},
   "outputs": [
    {
     "name": "stdout",
     "output_type": "stream",
     "text": [
      "sanchit\n",
      "SANCHIT\n",
      "sanchit\n"
     ]
    }
   ],
   "source": [
    "x=input()\n",
    "print(x.upper())\n",
    "print(x.lower())"
   ]
  },
  {
   "cell_type": "markdown",
   "id": "2238b5cd",
   "metadata": {},
   "source": [
    "# 41.Write a Python program to count occurrences of a substring in a string."
   ]
  },
  {
   "cell_type": "code",
   "execution_count": 32,
   "id": "3fa68c8d",
   "metadata": {},
   "outputs": [
    {
     "name": "stdout",
     "output_type": "stream",
     "text": [
      "you are not you you are me and me is deaf but you are me and im not deaf because im you\n",
      "you\n",
      "Number of occurance of you are 5\n"
     ]
    }
   ],
   "source": [
    "x= input()\n",
    "sub=input()\n",
    "print(\"Number of occurance of\",sub,\"are\",x.count(sub))\n"
   ]
  },
  {
   "cell_type": "markdown",
   "id": "e12f2714",
   "metadata": {},
   "source": [
    "# 42.Write a Python program to lowercase first n characters in a string."
   ]
  },
  {
   "cell_type": "code",
   "execution_count": 35,
   "id": "7c20a4ee",
   "metadata": {},
   "outputs": [
    {
     "name": "stdout",
     "output_type": "stream",
     "text": [
      "SaNChit\n",
      "4\n",
      "sanchit\n"
     ]
    }
   ],
   "source": [
    "x=input()\n",
    "n=int(input())\n",
    "\n",
    "print(x[0:n].lower()+x[n:])"
   ]
  },
  {
   "cell_type": "markdown",
   "id": "f048deeb",
   "metadata": {},
   "source": [
    "# 43. Write a Python program to remove spaces from a given string."
   ]
  },
  {
   "cell_type": "code",
   "execution_count": 37,
   "id": "6ff11417",
   "metadata": {},
   "outputs": [
    {
     "name": "stdout",
     "output_type": "stream",
     "text": [
      "Sanchit Patidar 0827CI191050\n",
      "SanchitPatidar0827CI191050\n"
     ]
    }
   ],
   "source": [
    "x=input()\n",
    "\n",
    "x=x.replace(\" \",\"\")\n",
    "print(x)"
   ]
  },
  {
   "cell_type": "markdown",
   "id": "588adfb9",
   "metadata": {},
   "source": [
    "# 44. Write a Python program to move spaces to the front of a given string."
   ]
  },
  {
   "cell_type": "code",
   "execution_count": 39,
   "id": "83c413f2",
   "metadata": {},
   "outputs": [
    {
     "name": "stdout",
     "output_type": "stream",
     "text": [
      "\"  SanchitPatidar0827CI191050\"\n"
     ]
    }
   ],
   "source": [
    "def move_Spaces_front(str1):\n",
    "  noSpaces_char = [ch for ch in str1 if ch!=' ']\n",
    "  spaces_char = len(str1) - len(noSpaces_char)\n",
    "  result = ' '*spaces_char\n",
    "  result = '\"'+result + ''.join(noSpaces_char)+'\"'\n",
    "  return(result)\n",
    "\n",
    "print(move_Spaces_front(\"Sanchit Patidar 0827CI191050\"))\n"
   ]
  },
  {
   "cell_type": "markdown",
   "id": "357ba904",
   "metadata": {},
   "source": [
    "# 45. Write a Python program to find the maximum occurring character in a given string."
   ]
  },
  {
   "cell_type": "code",
   "execution_count": 5,
   "id": "1647ebf2",
   "metadata": {},
   "outputs": [
    {
     "name": "stdout",
     "output_type": "stream",
     "text": [
      "gooogle\n",
      "o\n"
     ]
    }
   ],
   "source": [
    "str=input()\n",
    "\n",
    "max=-1\n",
    "arr=[0]*256\n",
    "\n",
    "for i in range(len(str)):\n",
    "    if str[i]==' ':\n",
    "        continue\n",
    "    num=ord(str[i])\n",
    "    arr[num]+=1\n",
    "\n",
    "ch=' '\n",
    "\n",
    "for i in range(len(str)):\n",
    "    if arr[ord(str[i])] != 0:\n",
    "        if arr[ord(str[i])] >= max:\n",
    "            max = arr[ord(str[i])]\n",
    "            ch=str[i]\n",
    "            \n",
    "print(ch)\n"
   ]
  },
  {
   "cell_type": "markdown",
   "id": "76760127",
   "metadata": {},
   "source": [
    "# 46. Write a Python program to capitalize first and last letters of each word of a given string."
   ]
  },
  {
   "cell_type": "code",
   "execution_count": 10,
   "id": "3e406bdc",
   "metadata": {},
   "outputs": [
    {
     "name": "stdout",
     "output_type": "stream",
     "text": [
      "sanchit\n",
      "SanchiT\n"
     ]
    }
   ],
   "source": [
    "x=input()\n",
    "x= x[0:1].upper() + x[1:-1]+ x[-1:].upper()\n",
    "print(x)"
   ]
  },
  {
   "cell_type": "markdown",
   "id": "b84d4af8",
   "metadata": {},
   "source": [
    "# 47. Write a Python program to compute sum of digits of a given string."
   ]
  },
  {
   "cell_type": "code",
   "execution_count": 19,
   "id": "610e2f99",
   "metadata": {},
   "outputs": [
    {
     "name": "stdout",
     "output_type": "stream",
     "text": [
      "sa5nc6hit4\n",
      "15\n"
     ]
    }
   ],
   "source": [
    "x=list(input())\n",
    "\n",
    "sum=0\n",
    "for i in x:\n",
    "    try:\n",
    "        sum=sum+int(i)# when there will be an error it will pass it, and error will occur when charcter will be non integer type\n",
    "    except:\n",
    "        pass\n",
    "print(sum)"
   ]
  },
  {
   "cell_type": "code",
   "execution_count": null,
   "id": "f9fb215a",
   "metadata": {},
   "outputs": [],
   "source": []
  }
 ],
 "metadata": {
  "kernelspec": {
   "display_name": "Python 3",
   "language": "python",
   "name": "python3"
  },
  "language_info": {
   "codemirror_mode": {
    "name": "ipython",
    "version": 3
   },
   "file_extension": ".py",
   "mimetype": "text/x-python",
   "name": "python",
   "nbconvert_exporter": "python",
   "pygments_lexer": "ipython3",
   "version": "3.9.5"
  }
 },
 "nbformat": 4,
 "nbformat_minor": 5
}
