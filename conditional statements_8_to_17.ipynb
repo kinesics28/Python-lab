{
 "cells": [
  {
   "cell_type": "markdown",
   "id": "d27ebc28",
   "metadata": {},
   "source": [
    "# 8.Given two integer numbers return their sum. If the sum is greater than 100, then return their product."
   ]
  },
  {
   "cell_type": "code",
   "execution_count": null,
   "id": "d47edfa6",
   "metadata": {},
   "outputs": [],
   "source": [
    "x=int(input())\n",
    "y=int(input())\n",
    "\n",
    "sum=x+y\n",
    "\n",
    "if sum>100:\n",
    "    print(\"Product is\",x*y)\n",
    "else:\n",
    "    print(\"Sum is\",sum)"
   ]
  },
  {
   "cell_type": "markdown",
   "id": "4a93eddc",
   "metadata": {},
   "source": [
    "# 9. Write a Python program to calculate the sum of three given numbers, if the values are not - equal then return four times of their sum"
   ]
  },
  {
   "cell_type": "code",
   "execution_count": null,
   "id": "4d998a74",
   "metadata": {},
   "outputs": [],
   "source": [
    "x=int(input())\n",
    "y=int(input())\n",
    "z=int(input())\n",
    "\n",
    "if x==y and y==z and z==x:\n",
    "    print(x+y+z)\n",
    "else:\n",
    "    print(4*(x+y+z))"
   ]
  },
  {
   "cell_type": "markdown",
   "id": "1f37e31a",
   "metadata": {},
   "source": [
    "# 10. A shop will give discount of 50% if the cost of purchased quantity is more than 10000. Ask user for quantity suppose, one unit will cost 100. Judge and print total cost for user."
   ]
  },
  {
   "cell_type": "code",
   "execution_count": null,
   "id": "3fb7b804",
   "metadata": {},
   "outputs": [],
   "source": [
    "quantity=int(input(\"Enter quantity of items \"))\n",
    "price=quantity*100\n",
    "if quantity>10000:\n",
    "    print(\"Total price is\", price/2)\n",
    "else:\n",
    "    print(\"Total price is\", price)"
   ]
  },
  {
   "cell_type": "markdown",
   "id": "6657ec2d",
   "metadata": {},
   "source": [
    "# 11. To check whether a number is divisible by 8 and 12 or not."
   ]
  },
  {
   "cell_type": "code",
   "execution_count": null,
   "id": "9b807a88",
   "metadata": {},
   "outputs": [],
   "source": [
    "x=int(input())\n",
    "\n",
    "if (x%8)==0 and (x%12)==0:\n",
    "    print(\"Divisible by 8 and 12\")\n",
    "else:\n",
    "    print(\"Not-divisible\")"
   ]
  },
  {
   "cell_type": "markdown",
   "id": "8c2a7ac9",
   "metadata": {},
   "source": [
    "# 12. To check whether a given number is even or odd."
   ]
  },
  {
   "cell_type": "code",
   "execution_count": null,
   "id": "51386c94",
   "metadata": {},
   "outputs": [],
   "source": [
    "x=int(input())\n",
    "\n",
    "if x%2==0:\n",
    "    print(\"even\")\n",
    "else:\n",
    "    print(\"odd\")"
   ]
  },
  {
   "cell_type": "markdown",
   "id": "51ca422e",
   "metadata": {},
   "source": [
    "# 13.Write a program to input marks of five subjects Physics, Chemistry, Biology, Mathematics and Computer. Calculate percentage and grade according to following:\n",
    "Percentage >= 90% : Grade A\n",
    "Percentage >= 80% : Grade B\n",
    "Percentage >= 70% : Grade C\n",
    "Percentage >= 60% : Grade D\n",
    "Percentage >= 40% : Grade E\n",
    "Percentage < 40% :  Grade F"
   ]
  },
  {
   "cell_type": "code",
   "execution_count": null,
   "id": "e36b6cd9",
   "metadata": {},
   "outputs": [],
   "source": [
    "sub1=int(input(\"Enter marks of the first subject: \"))\n",
    "sub2=int(input(\"Enter marks of the second subject: \"))\n",
    "sub3=int(input(\"Enter marks of the third subject: \"))\n",
    "sub4=int(input(\"Enter marks of the fourth subject: \"))\n",
    "sub5=int(input(\"Enter marks of the fifth subject: \"))\n",
    "avg=((sub1+sub2+sub3+sub4+sub4)/500)*100\n",
    "if(avg>=90):\n",
    "    print(\"Grade: A\")\n",
    "elif(avg>=80&avg<90):\n",
    "    print(\"Grade: B\")\n",
    "elif(avg>=70&avg<80):\n",
    "    print(\"Grade: C\")\n",
    "elif(avg>=60&avg<70):\n",
    "    print(\"Grade: D\")\n",
    "else:\n",
    "    print(\"Grade: F\")"
   ]
  },
  {
   "cell_type": "markdown",
   "id": "1d319330",
   "metadata": {},
   "source": [
    "# 14. Take input of age of 3 people by user and determine oldest and youngest among them."
   ]
  },
  {
   "cell_type": "code",
   "execution_count": null,
   "id": "375048f7",
   "metadata": {},
   "outputs": [],
   "source": [
    "x=int(input())\n",
    "y=int(input())\n",
    "z=int(input())\n",
    "\n",
    "l=[x,y,z]\n",
    "l.sort()\n",
    "print(\"minimum age:\",l[0])\n",
    "print(\"maximum age:\",l[2])"
   ]
  },
  {
   "cell_type": "markdown",
   "id": "f50d75e1",
   "metadata": {},
   "source": [
    "# 15. Write a program to input electricity unit charges and calculate total electricity bill according to the given condition:\n",
    "For first 50 units Rs. 0.50/unit\n",
    "For next 100 units Rs. 0.75/unit\n",
    "For next 100 units Rs. 1.20/unit\n",
    "For unit above 250 Rs. 1.50/unit\n",
    "An additional surcharge of 20% is added to the bill"
   ]
  },
  {
   "cell_type": "code",
   "execution_count": null,
   "id": "406146e9",
   "metadata": {},
   "outputs": [],
   "source": [
    "def calculateBill(units):\n",
    "\n",
    "    if (units <= 50):\n",
    "\n",
    "        return units * .50;\n",
    "\n",
    "    elif (units <= 100):\n",
    "\n",
    "        return ((50 * .5) +(units - 100) * .75);\n",
    "\n",
    "    elif (units <= 250):\n",
    "\n",
    "        return ((50 * .50) +(100 * .75) +(units - 150) * 1.20);\n",
    "\n",
    "    lif (units > 250):\n",
    "\n",
    "        return ((50 * .5) +(100 * .15) +(100 * 1.20) +(units - 250) * 1.50);\n",
    "\n",
    "    return 0;\n",
    "\n",
    "units = int(input()) #250\n",
    "print(calculateBill(units))\n",
    "\n"
   ]
  },
  {
   "cell_type": "markdown",
   "id": "93b42ca7",
   "metadata": {},
   "source": [
    "# 16. A student will not be allowed to sit in exam if his/her attendence is less than 80%.\n",
    "Take following input from user\n",
    "Total Number of classes held\n",
    "Total Number of classes attended. \n",
    "And print percentage of class attended. Is student is allowed to sit in exam or not."
   ]
  },
  {
   "cell_type": "code",
   "execution_count": null,
   "id": "ff4d7ddc",
   "metadata": {},
   "outputs": [],
   "source": [
    "a=int(input(\"Number of classes held:\"))\n",
    "\n",
    "b=int(input(\"Number of classes attended:\"))\n",
    "\n",
    "percentage=b/a*100\n",
    "\n",
    "if percentage>=75:\n",
    "    print(\"The student is allowed to sit in the exam hall\")\n",
    "else:\n",
    "    print(\"The student is not allowed to sit in the exam hall\")"
   ]
  }
 ],
 "metadata": {
  "kernelspec": {
   "display_name": "Python 3",
   "language": "python",
   "name": "python3"
  },
  "language_info": {
   "codemirror_mode": {
    "name": "ipython",
    "version": 3
   },
   "file_extension": ".py",
   "mimetype": "text/x-python",
   "name": "python",
   "nbconvert_exporter": "python",
   "pygments_lexer": "ipython3",
   "version": "3.9.5"
  }
 },
 "nbformat": 4,
 "nbformat_minor": 5
}
