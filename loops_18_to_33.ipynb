{
 "cells": [
  {
   "cell_type": "markdown",
   "id": "efc2c571",
   "metadata": {},
   "source": [
    "# 18. Program to find digital sum of a given Number\n",
    "   ex: n=123  Digital sum----->1+2+3=6\n"
   ]
  },
  {
   "cell_type": "code",
   "execution_count": 1,
   "id": "a77afc9a",
   "metadata": {},
   "outputs": [
    {
     "name": "stdout",
     "output_type": "stream",
     "text": [
      "Enter digits 123\n",
      "6\n"
     ]
    }
   ],
   "source": [
    "x=input(\"Enter digits \")\n",
    "sum=0\n",
    "for i in x:\n",
    "    sum=sum+int(i)\n",
    "print(sum)"
   ]
  },
  {
   "cell_type": "markdown",
   "id": "14536ed2",
   "metadata": {},
   "source": [
    "# 19.Program to find the digital product of a given number\n",
    "   ex: n=43   Digital product ----->4*3=12\n"
   ]
  },
  {
   "cell_type": "code",
   "execution_count": 3,
   "id": "648253f1",
   "metadata": {},
   "outputs": [
    {
     "name": "stdout",
     "output_type": "stream",
     "text": [
      "Enter digits 43\n",
      "12\n"
     ]
    }
   ],
   "source": [
    "x=input(\"Enter digits \")\n",
    "num=1\n",
    "for i in x:\n",
    "    num=num*int(i)\n",
    "print(num)"
   ]
  },
  {
   "cell_type": "markdown",
   "id": "a81f7c0f",
   "metadata": {},
   "source": [
    "# 20. Find the sum of the series 3 +33 + 333 + 3333 + .. n terms"
   ]
  },
  {
   "cell_type": "code",
   "execution_count": 3,
   "id": "192742b3",
   "metadata": {},
   "outputs": [
    {
     "name": "stdout",
     "output_type": "stream",
     "text": [
      "3\n",
      "4\n",
      "3702\n"
     ]
    }
   ],
   "source": [
    "x= int(input()) #3\n",
    "n= int(input()) #10\n",
    "sum=0\n",
    "z=0\n",
    "for i in range(n):\n",
    "    z+=(x*(10**i))\n",
    "    sum+=z\n",
    "print(sum)"
   ]
  },
  {
   "cell_type": "markdown",
   "id": "5567d82e",
   "metadata": {},
   "source": [
    "# 21. Print the following pattern\n"
   ]
  },
  {
   "cell_type": "code",
   "execution_count": 6,
   "id": "ed1ff9ad",
   "metadata": {},
   "outputs": [],
   "source": [
    "# * \n",
    "# * * \n",
    "# * * * \n",
    "# * * * * \n",
    "# * * * * * \n",
    "# * * * * \n",
    "# * * * \n",
    "# * * \n",
    "# *"
   ]
  },
  {
   "cell_type": "code",
   "execution_count": 10,
   "id": "0a810cdc",
   "metadata": {},
   "outputs": [
    {
     "name": "stdout",
     "output_type": "stream",
     "text": [
      "* \n",
      "* * \n",
      "* * * \n",
      "* * * * \n",
      "* * * * * \n",
      "* * * * \n",
      "* * * \n",
      "* * \n",
      "* \n"
     ]
    }
   ],
   "source": [
    "for i in range (1,6):\n",
    "    print('* '*i)\n",
    "for i in range (4,0,-1):\n",
    "    print('* '*i)\n",
    "        \n",
    "    "
   ]
  },
  {
   "cell_type": "markdown",
   "id": "d63ea955",
   "metadata": {},
   "source": [
    "# 22. Program to reverse a given Number.    ex: n=123   Reversed no is 321"
   ]
  },
  {
   "cell_type": "code",
   "execution_count": 17,
   "id": "5dcdd72a",
   "metadata": {},
   "outputs": [
    {
     "name": "stdout",
     "output_type": "stream",
     "text": [
      "123\n",
      "321\n"
     ]
    }
   ],
   "source": [
    "temp=int(input())\n",
    "\n",
    "x=0\n",
    "while temp>0:\n",
    "    x=x*10\n",
    "    x=x+(temp%10)\n",
    "    temp=temp//10\n",
    "\n",
    "print(x)\n",
    "\n",
    "    "
   ]
  },
  {
   "cell_type": "markdown",
   "id": "9924a5f6",
   "metadata": {},
   "source": [
    "# 23. Program to check whether a given number is a palindrome or not"
   ]
  },
  {
   "cell_type": "code",
   "execution_count": 22,
   "id": "c8966538",
   "metadata": {},
   "outputs": [
    {
     "name": "stdout",
     "output_type": "stream",
     "text": [
      "115511\n",
      "Palindorme\n"
     ]
    }
   ],
   "source": [
    "n= int(input())\n",
    "temp=n\n",
    "x=0\n",
    "while temp>0:\n",
    "    x=x*10\n",
    "    x=x+(temp%10)\n",
    "    temp=temp//10\n",
    "\n",
    "if x==n:\n",
    "    print(\"Palindorme\")\n",
    "else:\n",
    "    print(\"Not palindrome\")"
   ]
  },
  {
   "cell_type": "markdown",
   "id": "e70bb4e3",
   "metadata": {},
   "source": [
    "# 24. Program to check whether a given number is an Armstrong number or not."
   ]
  },
  {
   "cell_type": "code",
   "execution_count": 23,
   "id": "66c5a871",
   "metadata": {},
   "outputs": [
    {
     "name": "stdout",
     "output_type": "stream",
     "text": [
      "153\n",
      "Armstrong\n"
     ]
    }
   ],
   "source": [
    "n= int(input())\n",
    "temp=n\n",
    "sum=0\n",
    "while temp>0:\n",
    "    sum=sum+((temp%10)**3)\n",
    "    temp=temp//10\n",
    "\n",
    "if sum==n:\n",
    "    print(\"Armstrong\")\n",
    "else:\n",
    "    print(\"Not Armstrong\")"
   ]
  },
  {
   "cell_type": "markdown",
   "id": "14fdf8d0",
   "metadata": {},
   "source": [
    "# 25. Program to find factorial of a given number."
   ]
  },
  {
   "cell_type": "code",
   "execution_count": 2,
   "id": "eb60e776",
   "metadata": {},
   "outputs": [
    {
     "name": "stdout",
     "output_type": "stream",
     "text": [
      "5\n",
      "120\n"
     ]
    }
   ],
   "source": [
    "n= int(input())\n",
    "\n",
    "def fact(x):\n",
    "    if x==1:\n",
    "        return 1\n",
    "    return x*fact(x-1)\n",
    "\n",
    "print(fact(n))"
   ]
  },
  {
   "cell_type": "markdown",
   "id": "8e2e7042",
   "metadata": {},
   "source": [
    "# 26. Program to find whether a given number is a strong number or not.\n",
    "  e.g. n=145\n",
    "  1!+4!+5!==145"
   ]
  },
  {
   "cell_type": "code",
   "execution_count": 6,
   "id": "205c085f",
   "metadata": {},
   "outputs": [
    {
     "name": "stdout",
     "output_type": "stream",
     "text": [
      "145\n",
      "Strong number\n"
     ]
    }
   ],
   "source": [
    "n= int(input())\n",
    "\n",
    "def fact(x):\n",
    "    if x==1:\n",
    "        return 1\n",
    "    return x*fact(x-1)\n",
    "sum=0\n",
    "temp=n\n",
    "while temp>0:\n",
    "    sum=sum+fact((temp%10))\n",
    "    temp=temp//10\n",
    "\n",
    "if sum==n:\n",
    "    print(\"Strong number\")\n",
    "else:\n",
    "    print(\"Not a strong number\")"
   ]
  },
  {
   "cell_type": "markdown",
   "id": "8403667a",
   "metadata": {},
   "source": [
    "# 27. Program to find whether a given number is a unique number. For example, 20, 56, 9863, 145, etc. are the unique numbers while 33, 121, 900, 1010, etc. are not unique numbers"
   ]
  },
  {
   "cell_type": "code",
   "execution_count": 7,
   "id": "a91972a7",
   "metadata": {},
   "outputs": [
    {
     "ename": "IndentationError",
     "evalue": "expected an indented block (<ipython-input-7-1700772c6696>, line 4)",
     "output_type": "error",
     "traceback": [
      "\u001b[1;36m  File \u001b[1;32m\"<ipython-input-7-1700772c6696>\"\u001b[1;36m, line \u001b[1;32m4\u001b[0m\n\u001b[1;33m    \u001b[0m\n\u001b[1;37m    ^\u001b[0m\n\u001b[1;31mIndentationError\u001b[0m\u001b[1;31m:\u001b[0m expected an indented block\n"
     ]
    }
   ],
   "source": [
    "n= int(input())\n",
    "\n",
    "while n>0:\n",
    "    "
   ]
  },
  {
   "cell_type": "markdown",
   "id": "311f89b1",
   "metadata": {},
   "source": [
    "# 28. Program to find whether a given number is a perfect number or not."
   ]
  },
  {
   "cell_type": "code",
   "execution_count": 1,
   "id": "d3510e8f",
   "metadata": {},
   "outputs": [
    {
     "name": "stdout",
     "output_type": "stream",
     "text": [
      "9\n",
      "The number is not a Perfect number\n"
     ]
    }
   ],
   "source": [
    "n = int(input())\n",
    "sum = 0\n",
    "for i in range(1, n):\n",
    "    if(n % i == 0):\n",
    "        sum = sum + i\n",
    "if (sum == n):\n",
    "    print(\"The number is a Perfect number\")\n",
    "else:\n",
    "    print(\"The number is not a Perfect number\")"
   ]
  },
  {
   "cell_type": "markdown",
   "id": "6f03ed79",
   "metadata": {},
   "source": [
    "# 29. Program to find whether a given number is a prime number or not."
   ]
  },
  {
   "cell_type": "code",
   "execution_count": 2,
   "id": "bd39eda8",
   "metadata": {},
   "outputs": [
    {
     "name": "stdout",
     "output_type": "stream",
     "text": [
      "66\n",
      "Not a prime number\n"
     ]
    }
   ],
   "source": [
    "num = int(input())\n",
    "\n",
    "flag = False\n",
    "\n",
    "if num > 1:\n",
    "\n",
    "    for i in range(2, num):\n",
    "        if (num % i) == 0:\n",
    "            flag = True\n",
    "            break\n",
    "\n",
    "if flag:\n",
    "    print(\"Not a prime number\")\n",
    "else:\n",
    "    print(\"A prime number\")"
   ]
  },
  {
   "cell_type": "markdown",
   "id": "2a9aafac",
   "metadata": {},
   "source": [
    "# 30. Print downward Half-Pyramid Pattern with Star (asterisk)\n"
   ]
  },
  {
   "cell_type": "code",
   "execution_count": 3,
   "id": "93b235c8",
   "metadata": {},
   "outputs": [],
   "source": [
    "# * * * * *  \n",
    "# * * * *  \n",
    "# * * *  \n",
    "# * *  \n",
    "# *"
   ]
  },
  {
   "cell_type": "code",
   "execution_count": 16,
   "id": "b7fd877f",
   "metadata": {},
   "outputs": [
    {
     "name": "stdout",
     "output_type": "stream",
     "text": [
      "* * * * * \n",
      "* * * * \n",
      "* * * \n",
      "* * \n",
      "* \n"
     ]
    }
   ],
   "source": [
    "for i in range(5,0,-1):\n",
    "    print('* '*i)\n",
    "    "
   ]
  },
  {
   "cell_type": "markdown",
   "id": "5c059cb6",
   "metadata": {},
   "source": [
    "# 31. Print  following pattern: \n"
   ]
  },
  {
   "cell_type": "raw",
   "id": "76376e54",
   "metadata": {},
   "source": [
    "1\n",
    "22\n",
    "333\n",
    "4444\n",
    "55555\n",
    "666666\n",
    "7777777\n",
    "88888888\n",
    "999999999\n"
   ]
  },
  {
   "cell_type": "code",
   "execution_count": 17,
   "id": "c0777fc4",
   "metadata": {},
   "outputs": [
    {
     "name": "stdout",
     "output_type": "stream",
     "text": [
      "1\n",
      "22\n",
      "333\n",
      "4444\n",
      "55555\n",
      "666666\n",
      "7777777\n",
      "88888888\n",
      "999999999\n"
     ]
    }
   ],
   "source": [
    "for i in range(1,10):\n",
    "    x=str(i)\n",
    "    print(x*i)"
   ]
  },
  {
   "cell_type": "markdown",
   "id": "19bfea53",
   "metadata": {},
   "source": [
    "# 32. Print  following pattern: "
   ]
  },
  {
   "cell_type": "raw",
   "id": "7012452c",
   "metadata": {},
   "source": [
    "1\n",
    "12\n",
    "123\n",
    "1234\n",
    "12345\n",
    "123456\n",
    "1234567\n",
    "12345678\n",
    "123456789"
   ]
  },
  {
   "cell_type": "code",
   "execution_count": 10,
   "id": "445537dd",
   "metadata": {},
   "outputs": [
    {
     "name": "stdout",
     "output_type": "stream",
     "text": [
      "1\n",
      "12\n",
      "123\n",
      "1234\n",
      "12345\n",
      "123456\n",
      "1234567\n",
      "12345678\n",
      "123456789\n"
     ]
    }
   ],
   "source": [
    "for i in range(1,10):\n",
    "    for j in range (1,i+1):\n",
    "        print(j,end='')\n",
    "    print()"
   ]
  },
  {
   "cell_type": "markdown",
   "id": "c5621024",
   "metadata": {},
   "source": [
    "# 33. Print  following pattern: "
   ]
  },
  {
   "cell_type": "raw",
   "id": "f0277966",
   "metadata": {},
   "source": [
    "A\n",
    "BB\n",
    "CCC\n",
    "DDDD\n",
    "EEEEE\n",
    "FFFFFF\n",
    "GGGGGGG"
   ]
  },
  {
   "cell_type": "code",
   "execution_count": 15,
   "id": "c53f8300",
   "metadata": {},
   "outputs": [
    {
     "name": "stdout",
     "output_type": "stream",
     "text": [
      "\n",
      "A\n",
      "BB\n",
      "CCC\n",
      "DDDD\n",
      "EEEEE\n",
      "FFFFFF\n",
      "GGGGGGG\n"
     ]
    }
   ],
   "source": [
    "for i in range(8):\n",
    "    print(chr(64+i)*i)"
   ]
  },
  {
   "cell_type": "code",
   "execution_count": null,
   "id": "a9362662",
   "metadata": {},
   "outputs": [],
   "source": []
  }
 ],
 "metadata": {
  "kernelspec": {
   "display_name": "Python 3",
   "language": "python",
   "name": "python3"
  },
  "language_info": {
   "codemirror_mode": {
    "name": "ipython",
    "version": 3
   },
   "file_extension": ".py",
   "mimetype": "text/x-python",
   "name": "python",
   "nbconvert_exporter": "python",
   "pygments_lexer": "ipython3",
   "version": "3.9.5"
  }
 },
 "nbformat": 4,
 "nbformat_minor": 5
}
