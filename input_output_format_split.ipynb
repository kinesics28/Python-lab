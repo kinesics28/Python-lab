{
 "cells": [
  {
   "cell_type": "markdown",
   "source": [
    "# ***Different methods for output in python*** \r\n"
   ],
   "metadata": {}
  },
  {
   "cell_type": "code",
   "execution_count": 1,
   "source": [
    "\r\n",
    "print('This sentence is output to the screen')\r\n"
   ],
   "outputs": [
    {
     "output_type": "stream",
     "name": "stdout",
     "text": [
      "This sentence is output to the screen\n"
     ]
    }
   ],
   "metadata": {}
  },
  {
   "cell_type": "code",
   "execution_count": 2,
   "source": [
    "a = 5\r\n",
    "print('The value of a is', a)"
   ],
   "outputs": [
    {
     "output_type": "stream",
     "name": "stdout",
     "text": [
      "The value of a is 5\n"
     ]
    }
   ],
   "metadata": {}
  },
  {
   "cell_type": "code",
   "execution_count": 1,
   "source": [
    "print(1, 2, 3, 4)\r\n",
    "#seprating elements with a particular string/character\r\n",
    "print(1, 2, 3, 4, sep='*')\r\n",
    "print(1, 2, 3, 4, sep='##', end='&')"
   ],
   "outputs": [
    {
     "output_type": "stream",
     "name": "stdout",
     "text": [
      "1 2 3 4\n",
      "1*2*3*4\n",
      "1##2##3##4&"
     ]
    }
   ],
   "metadata": {}
  },
  {
   "cell_type": "code",
   "execution_count": 4,
   "source": [
    "\r\n",
    "x = 5; y = 10\r\n",
    "print('The value of x is {} and y is {}'.format(x,y))\r\n",
    "\r\n",
    "print('I love {0} and {1}'.format('bread','butter'))\r\n",
    "print('I love {1} and {0}'.format('bread','butter'))\r\n",
    "\r\n",
    "print('Hello {name}, {greeting}'.format(greeting = 'Goodmorning', name = 'Tushar'))\r\n"
   ],
   "outputs": [
    {
     "output_type": "stream",
     "name": "stdout",
     "text": [
      "The value of x is 5 and y is 10\n",
      "I love bread and butter\n",
      "I love butter and bread\n",
      "Hello Tushar, Goodmorning\n"
     ]
    }
   ],
   "metadata": {}
  },
  {
   "cell_type": "code",
   "execution_count": 5,
   "source": [
    "\r\n",
    "x = 12.3456789\r\n",
    "print('The value of x is %3.2f' %x)\r\n",
    "print('The value of x is %3.4f' %x)\r\n"
   ],
   "outputs": [
    {
     "output_type": "stream",
     "name": "stdout",
     "text": [
      "The value of x is 12.35\n",
      "The value of x is 12.3457\n"
     ]
    }
   ],
   "metadata": {}
  },
  {
   "cell_type": "markdown",
   "source": [
    "\r\n",
    "# ***Different input methods in python***\r\n"
   ],
   "metadata": {}
  },
  {
   "cell_type": "code",
   "execution_count": 6,
   "source": [
    "\r\n",
    "num = input('Enter a number: ')\r\n",
    "print(num)\r\n"
   ],
   "outputs": [
    {
     "output_type": "stream",
     "name": "stdout",
     "text": [
      "20\n"
     ]
    }
   ],
   "metadata": {}
  },
  {
   "cell_type": "markdown",
   "source": [
    "## *conversion*"
   ],
   "metadata": {}
  },
  {
   "cell_type": "code",
   "execution_count": 7,
   "source": [
    "print(int('10'))\r\n",
    "\r\n",
    "print(float('10'))\r\n",
    "\r\n",
    "#int('2+3')  # error will occur\r\n",
    "\r\n",
    "print(eval('2+3'))  # no error\r\n"
   ],
   "outputs": [
    {
     "output_type": "stream",
     "name": "stdout",
     "text": [
      "10\n",
      "10.0\n",
      "5\n"
     ]
    }
   ],
   "metadata": {}
  },
  {
   "cell_type": "markdown",
   "source": [
    "\r\n",
    "## ***Format commands***\r\n"
   ],
   "metadata": {}
  },
  {
   "cell_type": "code",
   "execution_count": 8,
   "source": [
    "\r\n",
    "#  template.format(p0, p1, ..., k0=v0, k1=v1, ...)\r\n",
    "\r\n",
    "# default arguments\r\n",
    "print(\"Hello {}, your balance is {}.\".format(\"Adam\", 230.2346))\r\n",
    "\r\n",
    "# positional arguments\r\n",
    "print(\"Hello {0}, your balance is {1}.\".format(\"Adam\", 230.2346))\r\n",
    "\r\n",
    "# keyword arguments\r\n",
    "print(\"Hello {name}, your balance is {blc}.\".format(name=\"Adam\", blc=230.2346))\r\n",
    "\r\n",
    "# mixed arguments\r\n",
    "print(\"Hello {0}, your balance is {blc}.\".format(\"Adam\", blc=230.2346))\r\n"
   ],
   "outputs": [
    {
     "output_type": "stream",
     "name": "stdout",
     "text": [
      "Hello Adam, your balance is 230.2346.\n",
      "Hello Adam, your balance is 230.2346.\n",
      "Hello Adam, your balance is 230.2346.\n",
      "Hello Adam, your balance is 230.2346.\n"
     ]
    }
   ],
   "metadata": {}
  },
  {
   "cell_type": "markdown",
   "source": [
    "\r\n",
    "## number formatting\r\n"
   ],
   "metadata": {}
  },
  {
   "cell_type": "code",
   "execution_count": 9,
   "source": [
    "\r\n",
    "# integer arguments\r\n",
    "print(\"The number is:{:d}\".format(123))\r\n",
    "\r\n",
    "# float arguments\r\n",
    "print(\"The float number is:{:f}\".format(123.4567898))\r\n",
    "\r\n",
    "# octal, binary and hexadecimal format\r\n",
    "print(\"bin: {0:b}, oct: {0:o}, hex: {0:x}\".format(12))\r\n",
    "\r\n",
    "# integer numbers with minimum width\r\n",
    "print(\"{:5d}\".format(12))\r\n",
    "\r\n",
    "# width doesn't work for numbers longer than padding\r\n",
    "print(\"{:2d}\".format(1234))\r\n",
    "\r\n",
    "# padding for float numbers\r\n",
    "print(\"{:8.3f}\".format(12.2346))\r\n",
    "\r\n",
    "# integer numbers with minimum width filled with zeros\r\n",
    "print(\"{:05d}\".format(12))\r\n",
    "\r\n",
    "# padding for float numbers filled with zeros\r\n",
    "print(\"{:08.3f}\".format(12.2346))\r\n",
    "\r\n",
    "# show the + sign\r\n",
    "print(\"{:+f} {:+f}\".format(12.23, -12.23))\r\n",
    "\r\n",
    "# show the - sign only\r\n",
    "print(\"{:-f} {:-f}\".format(12.23, -12.23))\r\n",
    "\r\n",
    "# show space for + sign\r\n",
    "print(\"{: f} {: f}\".format(12.23, -12.23))\r\n",
    "\r\n"
   ],
   "outputs": [
    {
     "output_type": "stream",
     "name": "stdout",
     "text": [
      "The number is:123\n",
      "The float number is:123.456790\n",
      "bin: 1100, oct: 14, hex: c\n",
      "   12\n",
      "1234\n",
      "  12.235\n",
      "00012\n",
      "0012.235\n",
      "+12.230000 -12.230000\n",
      "12.230000 -12.230000\n",
      " 12.230000 -12.230000\n"
     ]
    }
   ],
   "metadata": {}
  },
  {
   "cell_type": "markdown",
   "source": [
    "\r\n",
    "## Number formatting with alignment\r\n"
   ],
   "metadata": {}
  },
  {
   "cell_type": "code",
   "execution_count": 10,
   "source": [
    "\r\n",
    "# integer numbers with right alignment\r\n",
    "print(\"{:5d}\".format(12))\r\n",
    "\r\n",
    "# float numbers with center alignment\r\n",
    "print(\"{:^10.3f}\".format(12.2346))\r\n",
    "\r\n",
    "# integer left alignment filled with zeros\r\n",
    "print(\"{:<05d}\".format(12))\r\n",
    "\r\n",
    "# float numbers with center alignment\r\n",
    "print(\"{:=8.3f}\".format(-12.2346))\r\n",
    "\r\n"
   ],
   "outputs": [
    {
     "output_type": "stream",
     "name": "stdout",
     "text": [
      "   12\n",
      "  12.235  \n",
      "12000\n",
      "- 12.235\n"
     ]
    }
   ],
   "metadata": {}
  },
  {
   "cell_type": "markdown",
   "source": [
    "\r\n",
    "## string formatting with format method\r\n"
   ],
   "metadata": {}
  },
  {
   "cell_type": "code",
   "execution_count": 11,
   "source": [
    "\r\n",
    "# string padding with left alignment\r\n",
    "print(\"{:5}\".format(\"cat\"))\r\n",
    "\r\n",
    "# string padding with right alignment\r\n",
    "print(\"{:>5}\".format(\"cat\"))\r\n",
    "\r\n",
    "# string padding with center alignment\r\n",
    "print(\"{:^5}\".format(\"cat\"))\r\n",
    "\r\n",
    "# string padding with center alignment\r\n",
    "# and '*' padding character\r\n",
    "print(\"{:*^5}\".format(\"cat\"))\r\n",
    "\r\n"
   ],
   "outputs": [
    {
     "output_type": "stream",
     "name": "stdout",
     "text": [
      "cat  \n",
      "  cat\n",
      " cat \n",
      "*cat*\n"
     ]
    }
   ],
   "metadata": {}
  },
  {
   "cell_type": "markdown",
   "source": [
    "\r\n",
    "## Truncating strings with format()\r\n",
    "\r\n"
   ],
   "metadata": {}
  },
  {
   "cell_type": "code",
   "execution_count": 12,
   "source": [
    "\r\n",
    "print(\"{:.3}\".format(\"caterpillar\"))\r\n",
    "\r\n",
    "# truncating strings to 3 letters\r\n",
    "# and padding\r\n",
    "print(\"{:*<5.3}\".format(\"caterpillar\"))\r\n",
    "\r\n",
    "# truncating strings to 3 letters,\r\n",
    "# padding and center alignment\r\n",
    "print(\"{:*^5.3}\".format(\"caterpillar\"))\r\n"
   ],
   "outputs": [
    {
     "output_type": "stream",
     "name": "stdout",
     "text": [
      "cat\n",
      "cat**\n",
      "*cat*\n"
     ]
    }
   ],
   "metadata": {}
  },
  {
   "cell_type": "markdown",
   "source": [
    "\r\n",
    "##  Formatting class members using format()\r\n"
   ],
   "metadata": {}
  },
  {
   "cell_type": "code",
   "execution_count": 13,
   "source": [
    "\r\n",
    "class Person:\r\n",
    "    age = 23\r\n",
    "    name = \"Adam\"\r\n",
    "\r\n",
    "print(\"{p.name}'s age is: {p.age}\".format(p=Person()))\r\n",
    "\r\n",
    "#  Formatting dictionary members using format()\r\n",
    "\r\n",
    "# define Person dictionary\r\n",
    "person = {'age': 23, 'name': 'Adam'}\r\n",
    "\r\n",
    "# format age\r\n",
    "print(\"{p[name]}'s age is: {p[age]}\".format(p=person))\r\n",
    "\r\n",
    "# define Person dictionary\r\n",
    "person = {'age': 23, 'name': 'Adam'}\r\n",
    "\r\n",
    "# format age\r\n",
    "print(\"{name}'s age is: {age}\".format(**person))\r\n"
   ],
   "outputs": [
    {
     "output_type": "stream",
     "name": "stdout",
     "text": [
      "Adam's age is: 23\n",
      "Adam's age is: 23\n",
      "Adam's age is: 23\n"
     ]
    }
   ],
   "metadata": {}
  },
  {
   "cell_type": "markdown",
   "source": [
    "\r\n",
    "## Dynamic formatting using format()\r\n"
   ],
   "metadata": {}
  },
  {
   "cell_type": "code",
   "execution_count": 14,
   "source": [
    "\r\n",
    "# dynamic string format template\r\n",
    "string = \"{:{fill}{align}{width}}\"\r\n",
    "\r\n",
    "# passing format codes as arguments\r\n",
    "print(string.format('cat', fill='*', align='^', width=5))\r\n",
    "\r\n",
    "# dynamic float format template\r\n",
    "num = \"{:{align}{width}.{precision}f}\"\r\n",
    "\r\n",
    "# passing format codes as arguments\r\n",
    "print(num.format(123.236, align='<', width=8, precision=2))\r\n",
    "\r\n",
    "import datetime\r\n",
    "# datetime formatting\r\n",
    "date = datetime.datetime.now()\r\n",
    "print(\"It's now: {:%Y/%m/%d %H:%M:%S}\".format(date))\r\n",
    "\r\n",
    "# complex number formatting\r\n",
    "complexNumber = 1+2j\r\n",
    "print(\"Real part: {0.real} and Imaginary part: {0.imag}\".format(complexNumber))\r\n"
   ],
   "outputs": [
    {
     "output_type": "stream",
     "name": "stdout",
     "text": [
      "*cat*\n",
      "123.24  \n",
      "It's now: 2021/09/22 21:53:19\n",
      "Real part: 1.0 and Imaginary part: 2.0\n"
     ]
    }
   ],
   "metadata": {}
  },
  {
   "cell_type": "markdown",
   "source": [
    "\r\n",
    "## custom __ format__() method\r\n"
   ],
   "metadata": {}
  },
  {
   "cell_type": "code",
   "execution_count": 15,
   "source": [
    "\r\n",
    "class Person:\r\n",
    "    def __format__(self, format):\r\n",
    "        if(format == 'age'):\r\n",
    "            return '23'\r\n",
    "        return 'None'\r\n",
    "\r\n",
    "print(\"Adam's age is: {:age}\".format(Person()))\r\n",
    "\r\n",
    "\r\n",
    "# __str__() and __repr__() shorthand !r and !s\r\n",
    "print(\"Quotes: {0!r}, Without Quotes: {0!s}\".format(\"cat\"))\r\n",
    "\r\n",
    "# __str__() and __repr__() implementation for class\r\n",
    "class Person:\r\n",
    "    def __str__(self):\r\n",
    "        return \"STR\"\r\n",
    "    def __repr__(self):\r\n",
    "        return \"REPR\"\r\n",
    "\r\n",
    "print(\"repr: {p!r}, str: {p!s}\".format(p=Person()))\r\n",
    "\r\n",
    "\r\n"
   ],
   "outputs": [
    {
     "output_type": "stream",
     "name": "stdout",
     "text": [
      "Adam's age is: 23\n",
      "Quotes: 'cat', Without Quotes: cat\n",
      "repr: REPR, str: STR\n"
     ]
    }
   ],
   "metadata": {}
  },
  {
   "cell_type": "markdown",
   "source": [
    "\r\n",
    "#  ***Split method*** "
   ],
   "metadata": {}
  },
  {
   "cell_type": "code",
   "execution_count": 16,
   "source": [
    "\r\n",
    "#   str.split(separator, maxsplit)\r\n",
    "\r\n",
    "text = 'Python is a fun programming language'\r\n",
    "\r\n",
    "# split the text from space\r\n",
    "print(text.split(' '))\r\n",
    "\r\n",
    "text= 'Love thy neighbor'\r\n",
    "\r\n",
    "# splits at space\r\n",
    "print(text.split())\r\n",
    "\r\n",
    "grocery = 'Milk, Chicken, Bread'\r\n",
    "\r\n",
    "# splits at ','\r\n",
    "print(grocery.split(', '))\r\n",
    "\r\n",
    "# Splits at ':'\r\n",
    "print(grocery.split(':'))\r\n",
    "\r\n",
    "grocery = 'Milk, Chicken, Bread, Butter'\r\n",
    "\r\n",
    "# maxsplit: 2\r\n",
    "print(grocery.split(', ', 2))\r\n",
    "\r\n",
    "# maxsplit: 1\r\n",
    "print(grocery.split(', ', 1))\r\n",
    "\r\n",
    "# maxsplit: 5\r\n",
    "print(grocery.split(', ', 5))\r\n",
    "\r\n",
    "# maxsplit: 0\r\n",
    "print(grocery.split(', ', 0))\r\n"
   ],
   "outputs": [
    {
     "output_type": "stream",
     "name": "stdout",
     "text": [
      "['Python', 'is', 'a', 'fun', 'programming', 'language']\n",
      "['Love', 'thy', 'neighbor']\n",
      "['Milk', 'Chicken', 'Bread']\n",
      "['Milk, Chicken, Bread']\n",
      "['Milk', 'Chicken', 'Bread, Butter']\n",
      "['Milk', 'Chicken, Bread, Butter']\n",
      "['Milk', 'Chicken', 'Bread', 'Butter']\n",
      "['Milk, Chicken, Bread, Butter']\n"
     ]
    }
   ],
   "metadata": {}
  }
 ],
 "metadata": {
  "orig_nbformat": 4,
  "language_info": {
   "name": "python",
   "version": "3.9.7",
   "mimetype": "text/x-python",
   "codemirror_mode": {
    "name": "ipython",
    "version": 3
   },
   "pygments_lexer": "ipython3",
   "nbconvert_exporter": "python",
   "file_extension": ".py"
  },
  "kernelspec": {
   "name": "python3",
   "display_name": "Python 3.9.7 64-bit (windows store)"
  },
  "interpreter": {
   "hash": "8f24a489568feb8884645e30faa8538ccc538a2dfdc8b84f2f214516008b46b3"
  }
 },
 "nbformat": 4,
 "nbformat_minor": 2
}