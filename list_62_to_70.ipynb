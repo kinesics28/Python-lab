{
 "cells": [
  {
   "cell_type": "markdown",
   "id": "c97cce03",
   "metadata": {},
   "source": [
    "# 62.Python program to display the sum of input (n) numbers using a list."
   ]
  },
  {
   "cell_type": "code",
   "execution_count": 2,
   "id": "57298d05",
   "metadata": {},
   "outputs": [
    {
     "name": "stdout",
     "output_type": "stream",
     "text": [
      "1 2 3\n",
      "6\n"
     ]
    }
   ],
   "source": [
    "x= list(map(int,input().strip().split()))\n",
    "sum=0\n",
    "for i in x:\n",
    "    sum+=i\n",
    "print(sum)"
   ]
  },
  {
   "cell_type": "markdown",
   "id": "c645dadd",
   "metadata": {},
   "source": [
    "# 63. Python program to insert a number to given position in a list."
   ]
  },
  {
   "cell_type": "code",
   "execution_count": 4,
   "id": "d4c0d741",
   "metadata": {},
   "outputs": [
    {
     "name": "stdout",
     "output_type": "stream",
     "text": [
      "[1, 2, 3, 4, 5, 6, 7, 8, 9]\n"
     ]
    }
   ],
   "source": [
    "x=[1,2,3,4,5,7,8,9]\n",
    "\n",
    "pos=5\n",
    "\n",
    "x.insert(pos,6) #insert 6 after 5th postion\n",
    "print(x)"
   ]
  },
  {
   "cell_type": "markdown",
   "id": "a6ed3cc5",
   "metadata": {},
   "source": [
    "# 64. Write the program that prompts the user for a list of numbers and prints out the maximum and minimum of the numbers at the end when the user enters “done”. Write the program to store the numbers the user enters in a list and use the max() and min() functions to compute the maximum and minimum numbers after the loop completes."
   ]
  },
  {
   "cell_type": "code",
   "execution_count": 11,
   "id": "c513f91c",
   "metadata": {},
   "outputs": [
    {
     "name": "stdout",
     "output_type": "stream",
     "text": [
      "1\n",
      "4\n",
      "7\n",
      "8\n",
      "9\n",
      "0\n",
      "4\n",
      "5\n",
      "done\n",
      "List: [1, 4, 7, 8, 9, 0, 4, 5]\n",
      "Max is 9\n",
      "Min is 0\n"
     ]
    }
   ],
   "source": [
    "l=list()\n",
    "while True:\n",
    "    x=input()\n",
    "    if x=='done':\n",
    "        break\n",
    "    else:\n",
    "        l.append(int(x))\n",
    "\n",
    "print(\"List:\",l)\n",
    "print(\"Max is\",max(l))\n",
    "print(\"Min is\",min(l))"
   ]
  },
  {
   "cell_type": "markdown",
   "id": "0def32b6",
   "metadata": {},
   "source": [
    "# 65.Write another program that prompts for a list of numbers as above and at the end prints out both the maximum and minimum of the numbers."
   ]
  },
  {
   "cell_type": "code",
   "execution_count": 12,
   "id": "aa6bfe63",
   "metadata": {},
   "outputs": [
    {
     "name": "stdout",
     "output_type": "stream",
     "text": [
      "1 4 7 8 4 9 0 5\n",
      "List: [1, 4, 7, 8, 4, 9, 0, 5]\n",
      "Max is 9\n",
      "Min is 0\n"
     ]
    }
   ],
   "source": [
    "l=list(map(int,input().strip().split()))\n",
    "\n",
    "print(\"List:\",l)\n",
    "print(\"Max is\",max(l))\n",
    "print(\"Min is\",min(l))"
   ]
  },
  {
   "cell_type": "markdown",
   "id": "75bb1b5d",
   "metadata": {},
   "source": [
    "# 66. Python program to delete an element from a list by index which is given by the user."
   ]
  },
  {
   "cell_type": "code",
   "execution_count": 18,
   "id": "26a44160",
   "metadata": {},
   "outputs": [
    {
     "name": "stdout",
     "output_type": "stream",
     "text": [
      "[1, 2, 3, 4, 5, 6, 7, 8, 9]\n"
     ]
    }
   ],
   "source": [
    "x=[1,2,3,4,5,51,6,7,8,9]\n",
    "\n",
    "delete=5\n",
    "\n",
    "del x[delete] #delete 5th element in list\n",
    "print(x)"
   ]
  },
  {
   "cell_type": "markdown",
   "id": "f2fbaa71",
   "metadata": {},
   "source": [
    "# 67.Write a Python program to print a specified list after removing the 1st, 2nd and 5th elements."
   ]
  },
  {
   "cell_type": "code",
   "execution_count": 22,
   "id": "9ead232d",
   "metadata": {},
   "outputs": [
    {
     "name": "stdout",
     "output_type": "stream",
     "text": [
      "[3, 4, 6, 7, 8, 9]\n",
      "[3, 4, 6, 7, 8, 9]\n"
     ]
    }
   ],
   "source": [
    "x=[1,2,3,4,5,6,7,8,9]\n",
    "\n",
    "x=x[2:4]+x[5:]\n",
    "print(x)\n",
    "\n",
    "#or\n",
    "\n",
    "x=[1,2,3,4,5,6,7,8,9]\n",
    "\n",
    "x=[ j for (i,j) in enumerate(x) if i not in [0,1,4]]\n",
    "\n",
    "print(x)"
   ]
  },
  {
   "cell_type": "markdown",
   "id": "1a8c5d16",
   "metadata": {},
   "source": [
    "# 68. Write a Python program to generate all sublists of a list."
   ]
  },
  {
   "cell_type": "code",
   "execution_count": 29,
   "id": "0c368339",
   "metadata": {},
   "outputs": [
    {
     "name": "stdout",
     "output_type": "stream",
     "text": [
      "[[1], [1, 2], [2], [1, 2, 3], [2, 3], [3], [1, 2, 3, 4], [2, 3, 4], [3, 4], [4], [1, 2, 3, 4, 5], [2, 3, 4, 5], [3, 4, 5], [4, 5], [5], [1, 2, 3, 4, 5, 6], [2, 3, 4, 5, 6], [3, 4, 5, 6], [4, 5, 6], [5, 6], [6], [1, 2, 3, 4, 5, 6, 7], [2, 3, 4, 5, 6, 7], [3, 4, 5, 6, 7], [4, 5, 6, 7], [5, 6, 7], [6, 7], [7], [1, 2, 3, 4, 5, 6, 7, 8], [2, 3, 4, 5, 6, 7, 8], [3, 4, 5, 6, 7, 8], [4, 5, 6, 7, 8], [5, 6, 7, 8], [6, 7, 8], [7, 8], [8], [1, 2, 3, 4, 5, 6, 7, 8, 9], [2, 3, 4, 5, 6, 7, 8, 9], [3, 4, 5, 6, 7, 8, 9], [4, 5, 6, 7, 8, 9], [5, 6, 7, 8, 9], [6, 7, 8, 9], [7, 8, 9], [8, 9], [9]]\n"
     ]
    }
   ],
   "source": [
    "x=[1,2,3,4,5,6,7,8,9]\n",
    "\n",
    "lis=[]\n",
    "for i in range(len(x)+1):\n",
    "    for j in range(i):\n",
    "        lis.append(x[j:i])\n",
    "        \n",
    "print(lis)"
   ]
  },
  {
   "cell_type": "markdown",
   "id": "45737b1b",
   "metadata": {},
   "source": [
    "# 69.Write a Python program to find all the values in a list are greater than a given number."
   ]
  },
  {
   "cell_type": "code",
   "execution_count": 33,
   "id": "fd8793c1",
   "metadata": {},
   "outputs": [
    {
     "name": "stdout",
     "output_type": "stream",
     "text": [
      "[6, 7, 8, 9]\n"
     ]
    }
   ],
   "source": [
    "x=[1,2,3,4,5,6,7,8,9]\n",
    "\n",
    "x.sort()\n",
    "num=5\n",
    "\n",
    "i=x.index(num)\n",
    "\n",
    "print(x[i+1:])"
   ]
  },
  {
   "cell_type": "markdown",
   "id": "691f0d9e",
   "metadata": {},
   "source": [
    "# 70.Python program to find the even numbers in a List."
   ]
  },
  {
   "cell_type": "code",
   "execution_count": 34,
   "id": "7cc0f2d0",
   "metadata": {},
   "outputs": [
    {
     "name": "stdout",
     "output_type": "stream",
     "text": [
      "[2, 4, 6, 8]\n"
     ]
    }
   ],
   "source": [
    "x=[1,2,3,4,5,6,7,8,9]\n",
    "\n",
    "y=list(filter(lambda z:(z%2==0),x)) # filter by a psudo function lambda with parametre z, where z is for each element in list where z%2==0 in list\n",
    "\n",
    "print(y)"
   ]
  }
 ],
 "metadata": {
  "kernelspec": {
   "display_name": "Python 3",
   "language": "python",
   "name": "python3"
  },
  "language_info": {
   "codemirror_mode": {
    "name": "ipython",
    "version": 3
   },
   "file_extension": ".py",
   "mimetype": "text/x-python",
   "name": "python",
   "nbconvert_exporter": "python",
   "pygments_lexer": "ipython3",
   "version": "3.9.5"
  }
 },
 "nbformat": 4,
 "nbformat_minor": 5
}
