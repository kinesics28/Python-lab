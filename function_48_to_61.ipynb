{
 "cells": [
  {
   "cell_type": "markdown",
   "id": "b34fb24d",
   "metadata": {},
   "source": [
    "# 48. Write a Python function that takes a list of words and returns the length of the longest one."
   ]
  },
  {
   "cell_type": "code",
   "execution_count": 1,
   "id": "22f5724b",
   "metadata": {},
   "outputs": [
    {
     "name": "stdout",
     "output_type": "stream",
     "text": [
      "('Sanchit', 7)\n"
     ]
    }
   ],
   "source": [
    "def maxLength(n):\n",
    "    \n",
    "    max=-1\n",
    "    word=\"null\"\n",
    "    for i in n:\n",
    "        if len(i)>max:\n",
    "            max=len(i)\n",
    "            word=i\n",
    "    return word,max\n",
    "\n",
    "lis=[\"hello\",\"my\",\"name\",\"is\",\"Sanchit\"]\n",
    "\n",
    "print(maxLength(lis))"
   ]
  },
  {
   "cell_type": "markdown",
   "id": "3f12dac9",
   "metadata": {},
   "source": [
    "# 49. Write a function x(n) for computing an element in the sequence xn=n^2+1. Call the function for n=4 and write out the result."
   ]
  },
  {
   "cell_type": "code",
   "execution_count": 2,
   "id": "93fc483d",
   "metadata": {},
   "outputs": [
    {
     "name": "stdout",
     "output_type": "stream",
     "text": [
      "17\n"
     ]
    }
   ],
   "source": [
    "def x(n):\n",
    "    return (n**2 + 1)\n",
    "\n",
    "print(x(4))"
   ]
  },
  {
   "cell_type": "markdown",
   "id": "b21ef53e",
   "metadata": {},
   "source": [
    "# 50. Take the following Python code that stores a string: ‘str = 'Y-tatata-acropolis: 0.8475'. Use find and string slicing to extract the portion of the string after the colon character and then use the float function to convert the extracted string into a floating point number."
   ]
  },
  {
   "cell_type": "code",
   "execution_count": 5,
   "id": "4af05f56",
   "metadata": {},
   "outputs": [
    {
     "name": "stdout",
     "output_type": "stream",
     "text": [
      "0.8475\n"
     ]
    }
   ],
   "source": [
    "str = 'Y-tatata-acropolis: 0.8475'\n",
    "\n",
    "x=str.find(':')\n",
    "y=str[x+1:]\n",
    "\n",
    "print(float(y))"
   ]
  },
  {
   "cell_type": "markdown",
   "id": "29bb890c",
   "metadata": {},
   "source": [
    "# 51.Write a function that returns the middle value among three integers. (Hint: make use of min() and max()). Write code to test this function with different inputs."
   ]
  },
  {
   "cell_type": "code",
   "execution_count": 8,
   "id": "20f2a2bc",
   "metadata": {},
   "outputs": [
    {
     "name": "stdout",
     "output_type": "stream",
     "text": [
      "12 47 32\n",
      "32\n"
     ]
    }
   ],
   "source": [
    "x=list(map(int,input().strip().split()))\n",
    "x.sort()\n",
    "print(x[1])"
   ]
  },
  {
   "cell_type": "markdown",
   "id": "0daa1d41",
   "metadata": {},
   "source": [
    "# 52. Write a function that computes the area of a rectangle. Then, write a second function that calls this function three times to compute the surface area of a rectangular solid."
   ]
  },
  {
   "cell_type": "code",
   "execution_count": 9,
   "id": "949956ff",
   "metadata": {},
   "outputs": [
    {
     "name": "stdout",
     "output_type": "stream",
     "text": [
      "148\n"
     ]
    }
   ],
   "source": [
    "def area(l,b):\n",
    "    return (l*b)\n",
    "\n",
    "def areaSolid(l,b,h):\n",
    "    return( 2*area(l,b)+ 2*area(b,h)+ 2*area(h,l))\n",
    "\n",
    "print(areaSolid(4,5,6))"
   ]
  },
  {
   "cell_type": "markdown",
   "id": "df2fa7cf",
   "metadata": {},
   "source": [
    "# 53. Create an outer function that will accept three parameters, a, b and c. Create an inner function inside an outer function that will calculate the addition of a, b and c. At last, an outer function will add 5 into addition and return it "
   ]
  },
  {
   "cell_type": "code",
   "execution_count": 10,
   "id": "f95ef693",
   "metadata": {},
   "outputs": [
    {
     "name": "stdout",
     "output_type": "stream",
     "text": [
      "11\n"
     ]
    }
   ],
   "source": [
    "def outer(a,b,c):\n",
    "    \n",
    "    def inner(a,b,c):\n",
    "        return a+b+c\n",
    "    \n",
    "    x=inner(a,b,c)\n",
    "    \n",
    "    return x+5\n",
    "\n",
    "print(outer(1,2,3))"
   ]
  },
  {
   "cell_type": "markdown",
   "id": "867a5d3c",
   "metadata": {},
   "source": [
    "# 54. Write a program to create a recursive function to calculate the product of numbers from 10 to 100."
   ]
  },
  {
   "cell_type": "code",
   "execution_count": 1,
   "id": "7de185b1",
   "metadata": {},
   "outputs": [
    {
     "name": "stdout",
     "output_type": "stream",
     "text": [
      "93326215443944152681699238856266700490715968264381621468592963895217599993229915608941463976156518286253697920827223758251185210916863999999999999999996371200\n"
     ]
    }
   ],
   "source": [
    "def rec(x):\n",
    "    if(x==1):\n",
    "        return 1\n",
    "    return (x*rec(x-1))\n",
    "\n",
    "print(rec(100)-rec(10))"
   ]
  },
  {
   "cell_type": "markdown",
   "id": "152463db",
   "metadata": {},
   "source": [
    "# 55. Write a Python function to calculate the factorial of a number (a non-negative integer). The function accepts the number as an argument."
   ]
  },
  {
   "cell_type": "code",
   "execution_count": 3,
   "id": "ee0c69e9",
   "metadata": {},
   "outputs": [
    {
     "name": "stdout",
     "output_type": "stream",
     "text": [
      "120\n"
     ]
    }
   ],
   "source": [
    "def fact(x):\n",
    "    if(x==1):\n",
    "        return 1\n",
    "    return (x*rec(x-1))\n",
    "\n",
    "print(fact(5))"
   ]
  },
  {
   "cell_type": "markdown",
   "id": "1f1393c0",
   "metadata": {},
   "source": [
    "# 56. Write a Python function to display all the multiples of  7 & 9 within the range 100 to 500."
   ]
  },
  {
   "cell_type": "code",
   "execution_count": 4,
   "id": "a8565fd8",
   "metadata": {},
   "outputs": [
    {
     "name": "stdout",
     "output_type": "stream",
     "text": [
      "105 108 112 117 119 126 133 135 140 144 147 153 154 161 162 168 171 175 180 182 189 196 198 203 207 210 216 217 224 225 231 234 238 243 245 252 259 261 266 270 273 279 280 287 288 294 297 301 306 308 315 322 324 329 333 336 342 343 350 351 357 360 364 369 371 378 385 387 392 396 399 405 406 413 414 420 423 427 432 434 441 448 450 455 459 462 468 469 476 477 483 486 490 495 497 "
     ]
    }
   ],
   "source": [
    "def fun(x):\n",
    "    if(x%7==0):\n",
    "        print(x,end=\" \")\n",
    "    elif x%9==0:\n",
    "        print(x,end=\" \")\n",
    "    \n",
    "    if x>500:\n",
    "        return \n",
    "    else:\n",
    "        fun(x+1)\n",
    "        \n",
    "fun(100)"
   ]
  },
  {
   "cell_type": "markdown",
   "id": "4607c1e9",
   "metadata": {},
   "source": [
    "# 57. Write a Python function  to check whether the given integer is a prime number or not."
   ]
  },
  {
   "cell_type": "code",
   "execution_count": 10,
   "id": "bbbe1e67",
   "metadata": {},
   "outputs": [
    {
     "name": "stdout",
     "output_type": "stream",
     "text": [
      "Prime\n",
      "Not prime\n"
     ]
    }
   ],
   "source": [
    "# pip install sympy\n",
    "from sympy.ntheory.primetest import isprime\n",
    "\n",
    "def fun(x):\n",
    "    if isprime(x):\n",
    "        print(\"Prime\")\n",
    "    else:\n",
    "        print(\"Not prime\")\n",
    "        \n",
    "fun(5)\n",
    "fun(9)"
   ]
  },
  {
   "cell_type": "markdown",
   "id": "720bd5cb",
   "metadata": {},
   "source": [
    "# 58. Write a Python function that checks whether a passed interger is armstrong or not."
   ]
  },
  {
   "cell_type": "code",
   "execution_count": 15,
   "id": "4a73a682",
   "metadata": {},
   "outputs": [
    {
     "name": "stdout",
     "output_type": "stream",
     "text": [
      "Armstrong\n",
      "Not armstrong\n"
     ]
    }
   ],
   "source": [
    "def check(x):\n",
    "    s= [int(i) for i in str(x)]\n",
    "    sum=0\n",
    "    for i in s:\n",
    "        sum+=i**3\n",
    "        \n",
    "    if sum==x:\n",
    "        print(\"Armstrong\")\n",
    "    else:\n",
    "        print(\"Not armstrong\")\n",
    "\n",
    "check(153)\n",
    "check(155)"
   ]
  },
  {
   "cell_type": "markdown",
   "id": "ddd0a9b4",
   "metadata": {},
   "source": [
    "# 59.Program to return a function from another function."
   ]
  },
  {
   "cell_type": "code",
   "execution_count": 19,
   "id": "263c0fc6",
   "metadata": {},
   "outputs": [
    {
     "name": "stdout",
     "output_type": "stream",
     "text": [
      "Sanchit\n"
     ]
    }
   ],
   "source": [
    "def retrn(x):\n",
    "    return x\n",
    "\n",
    "def cout(x):\n",
    "    print(retrn(x))\n",
    "    \n",
    "cout('Sanchit')\n",
    "    "
   ]
  },
  {
   "cell_type": "markdown",
   "id": "0d0cb8ab",
   "metadata": {},
   "source": [
    "# 60. First, def a function, start_process, that takes one argument p. Then, if the start_process function receives an p equal to \"Yes\", it should return \"Start Process\" Alternatively, elif p is equal to \"No\", then the function should return \"Start Process Aborted\". Finally, if start_process gets anything other than those inputs, the function should return \"Sorry for the input\"."
   ]
  },
  {
   "cell_type": "code",
   "execution_count": 20,
   "id": "c290b3b7",
   "metadata": {},
   "outputs": [
    {
     "name": "stdout",
     "output_type": "stream",
     "text": [
      "Start Process\n",
      "Start process Aborted\n",
      "Sorry for input\n"
     ]
    }
   ],
   "source": [
    "def start_process(p):\n",
    "    if p==\"yes\":\n",
    "        return (\"Start Process\")\n",
    "    elif p==\"no\":\n",
    "        return \"Start process Aborted\"\n",
    "    else:\n",
    "        return \"Sorry for input\"\n",
    "\n",
    "print(start_process(\"yes\"))\n",
    "print(start_process(\"no\"))\n",
    "print(start_process(\"sanchit\"))"
   ]
  },
  {
   "cell_type": "markdown",
   "id": "399b321e",
   "metadata": {},
   "source": [
    "# 61. First, def a function called calculate_distance, with one argument (choose any argument name you like). If the type of the argument is either int or float, the function should return the absolute value of the function input. Otherwise, the function should return \"No value\". Check if it works calling the function with  9.6 and \"what?\"."
   ]
  },
  {
   "cell_type": "code",
   "execution_count": 24,
   "id": "ea0cd6f9",
   "metadata": {},
   "outputs": [
    {
     "name": "stdout",
     "output_type": "stream",
     "text": [
      "9.6\n",
      "No value\n"
     ]
    }
   ],
   "source": [
    "def calculate_distance(x):\n",
    "    if type(x)==float or type(x)==int:\n",
    "        if x<0:\n",
    "            return (-1*x)\n",
    "        else:\n",
    "            return x\n",
    "    else:\n",
    "        return \"No value\"\n",
    "    \n",
    "print(calculate_distance(9.6))\n",
    "print(calculate_distance('what'))"
   ]
  },
  {
   "cell_type": "code",
   "execution_count": null,
   "id": "62713463",
   "metadata": {},
   "outputs": [],
   "source": []
  }
 ],
 "metadata": {
  "kernelspec": {
   "display_name": "Python 3",
   "language": "python",
   "name": "python3"
  },
  "language_info": {
   "codemirror_mode": {
    "name": "ipython",
    "version": 3
   },
   "file_extension": ".py",
   "mimetype": "text/x-python",
   "name": "python",
   "nbconvert_exporter": "python",
   "pygments_lexer": "ipython3",
   "version": "3.9.5"
  }
 },
 "nbformat": 4,
 "nbformat_minor": 5
}
